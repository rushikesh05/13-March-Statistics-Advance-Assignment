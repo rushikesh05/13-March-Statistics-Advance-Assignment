{
  "nbformat": 4,
  "nbformat_minor": 0,
  "metadata": {
    "colab": {
      "provenance": []
    },
    "kernelspec": {
      "name": "python3",
      "display_name": "Python 3"
    },
    "language_info": {
      "name": "python"
    }
  },
  "cells": [
    {
      "cell_type": "markdown",
      "source": [
        "##Q1. Explain the assumptions required to use ANOVA and provide examples of violations that could impact the validity of the results.\n",
        "#Ans:-\n",
        "\n",
        "###ANOVA (Analysis of Variance) is a statistical method used to compare the means of two or more groups of data. In order to use ANOVA, several assumptions must be met.\n",
        "\n",
        "##Assumptions for using ANOVA:\n",
        "\n",
        "* Independence: Observations in each group are independent of each other.\n",
        "* Normality: Each group of observations follows a normal distribution.\n",
        "* Homogeneity of variance: The variances of each group are approximately equal.\n",
        "Violations that could impact the validity of ANOVA results:\n",
        "\n",
        "* Violation of independence: When the observations in each group are not independent of each other, the results of ANOVA may be invalid. \n",
        "\n",
        "###For example, if multiple measurements are taken from the same subject, the independence assumption is violated. \n",
        "* Violation of normality: If the data in any group does not follow a normal distribution, the results of ANOVA may be inaccurate. For example, if the data is skewed or has outliers, the normality assumption may be violated.\n",
        "* Violation of homogeneity of variance: If the variances of the groups are not approximately equal, the results of ANOVA may be biased. For example, if the variance of one group is much larger than the others, the homogeneity of variance assumption may be violated.\n",
        "###To ensure the validity of ANOVA results, it is important to check for violations of these assumptions before conducting the analysis. If any of the assumptions are violated, alternative methods such as non-parametric tests may be used."
      ],
      "metadata": {
        "id": "nJdeB9Lz26xH"
      }
    },
    {
      "cell_type": "markdown",
      "source": [
        "\n",
        "##Q2. What are the three types of ANOVA, and in what situations would each be used?\n",
        "\n",
        "###There are three types of ANOVA: one-way ANOVA, two-way ANOVA, and repeated measures ANOVA. Each type of ANOVA is used in different situations depending on the research question and the design of the study.\n",
        "\n",
        "* One-way ANOVA: One-way ANOVA is used when there is one independent variable (IV) with two or more levels, and the dependent variable (DV) is continuous. For example, if we want to compare the mean test scores of students from three different schools, we would use one-way ANOVA. The independent variable would be the school, and the dependent variable would be the test scores.\n",
        "\n",
        "* Two-way ANOVA (or factorial ANOVA): It is used when there are two independent variables with two or more levels, and the dependent variable is continuous. For example, if we want to compare the mean test scores of students from three different schools who also have different genders, we would use two-way ANOVA. The independent variables would be school and gender, and the dependent variable would be test scores.\n",
        "\n",
        "* Repeated measures ANOVA: Repeated measures ANOVA is used when the same individuals are measured on the same dependent variable at different points in time or under different conditions. For example, if we want to compare the effectiveness of three different medications on the same group of patients, we would use repeated measures ANOVA. The dependent variable would be the patient's health status, and the independent variable would be the type of medication they received."
      ],
      "metadata": {
        "id": "pxzOPr1d4DWz"
      }
    },
    {
      "cell_type": "markdown",
      "source": [
        "##Q3. What is the partitioning of variance in ANOVA, and why is it important to understand this concept?\n",
        "\n",
        "* The partitioning of variance in ANOVA is a way to break down the total variance in a dependent variable into its different components, which helps us understand the sources of variability in our data. There are three components to this partitioning: the sum of squares total (SST), the sum of squares due to treatment (SSTr), and the sum of squares error (SSE). The SST represents the total variability in the data, the SSTr represents the variability that can be explained by the independent variable(s), and the SSE represents the variability that is due to error or random fluctuations.\n",
        "\n",
        "* Understanding the partitioning of variance is important because it allows us to test the significance of the effects of the independent variable(s) on the dependent variable. By comparing the variance due to the independent variable(s) with the variance due to error, we can calculate an F-statistic and determine whether the effects of the independent variable(s) are statistically significant.\n",
        "\n",
        "* In addition, partitioning of variance helps us explore interaction effects between multiple independent variables on the dependent variable, which can provide valuable insights into the complex relationships between different factors. Overall, understanding the partitioning of variance in ANOVA is crucial for researchers to identify and quantify the effects of independent variables on the dependent variable, and to test the statistical significance of those effects."
      ],
      "metadata": {
        "id": "F2WMvu9q5Zqn"
      }
    },
    {
      "cell_type": "markdown",
      "source": [
        "##Q4. How would you calculate the total sum of squares (SST), explained sum of squares (SSE), and residual sum of squares (SSR) in a one-way ANOVA using Python?"
      ],
      "metadata": {
        "id": "qm_2dQbW5vfW"
      }
    },
    {
      "cell_type": "code",
      "execution_count": 1,
      "metadata": {
        "colab": {
          "base_uri": "https://localhost:8080/"
        },
        "id": "LMbQuoeW2mg4",
        "outputId": "1e0987b1-19a3-40e1-b190-d644d8c67fd1"
      },
      "outputs": [
        {
          "output_type": "stream",
          "name": "stdout",
          "text": [
            "SST: 159.0\n",
            "SSE: 14.0\n",
            "SSR: 145.0\n",
            "F-statistic: 0.4344827586206897\n",
            "p-value: 0.6604941122772602\n"
          ]
        }
      ],
      "source": [
        "import pandas as pd\n",
        "from scipy.stats import f_oneway\n",
        "\n",
        "# load data into a pandas dataframe\n",
        "data = pd.read_csv('/content/data1.csv')\n",
        "\n",
        "# calculate the mean of all groups\n",
        "group_means = data.groupby('group')['value'].mean()\n",
        "grand_mean = data['value'].mean()\n",
        "\n",
        "# calculate the total sum of squares (SST)\n",
        "ss_total = ((data['value'] - grand_mean) ** 2).sum()\n",
        "\n",
        "# calculate the explained sum of squares (SSE)\n",
        "ss_explained = ((group_means - grand_mean) ** 2 * data['group'].value_counts()).sum()\n",
        "\n",
        "# calculate the residual sum of squares (SSR)\n",
        "ss_residual = ss_total - ss_explained\n",
        "\n",
        "# perform one-way ANOVA and calculate F-statistic and p-value\n",
        "f_stat, p_value = f_oneway(data[data['group'] == 'A']['value'],\n",
        "                           data[data['group'] == 'B']['value'],\n",
        "                           data[data['group'] == 'C']['value'])\n",
        "\n",
        "print('SST:', ss_total)\n",
        "print('SSE:', ss_explained)\n",
        "print('SSR:', ss_residual)\n",
        "print('F-statistic:', f_stat)\n",
        "print('p-value:', p_value)\n"
      ]
    },
    {
      "cell_type": "markdown",
      "source": [
        "##Q5. In a two-way ANOVA, how would you calculate the main effects and interaction effects using Python?\n",
        "\n"
      ],
      "metadata": {
        "id": "h_BW6ZaJ67Ct"
      }
    },
    {
      "cell_type": "code",
      "source": [
        "import pandas as pd\n",
        "from statsmodels.formula.api import ols\n",
        "from statsmodels.stats.anova import anova_lm\n",
        "\n",
        "# load data into a pandas dataframe\n",
        "data = pd.read_csv('/content/data2.csv')\n",
        "\n",
        "# fit two-way ANOVA model\n",
        "model = ols('value ~ group1 + group2 + group1:group2', data).fit()\n",
        "\n",
        "# calculate ANOVA table\n",
        "anova_results = anova_lm(model, typ=2)\n",
        "\n",
        "# print main effects and interaction effect\n",
        "print('Main effect of group1:', anova_results.loc['group1', 'sum_sq'])\n",
        "print('Main effect of group2:', anova_results.loc['group2', 'sum_sq'])\n",
        "print('Interaction effect:', anova_results.loc['group1:group2', 'sum_sq'])\n"
      ],
      "metadata": {
        "colab": {
          "base_uri": "https://localhost:8080/"
        },
        "id": "XWcpRTnE60b6",
        "outputId": "46569d98-1b72-4fc2-8322-d12560637762"
      },
      "execution_count": 3,
      "outputs": [
        {
          "output_type": "stream",
          "name": "stdout",
          "text": [
            "Main effect of group1: 14.000000000000012\n",
            "Main effect of group2: 108.00000000000024\n",
            "Interaction effect: 8.000000000000002\n"
          ]
        }
      ]
    },
    {
      "cell_type": "markdown",
      "source": [
        "##Q6. Suppose you conducted a one-way ANOVA and obtained an F-statistic of 5.23 and a p-value of 0.02. What can you conclude about the differences between the groups, and how would you interpret these results?\n",
        "\n",
        "* If we conducted a one-way ANOVA and obtained an F-statistic of 5.23 and a p-value of 0.02, we can conclude that there is significant evidence to suggest that at least one of the groups has a different mean from the others. The p-value of 0.02 means that if there were truly no difference between the groups, we would only observe an F-statistic as large as 5.23 by chance in 2% of samples. This is below the conventional threshold of 0.05, which means we reject the null hypothesis of equal means.\n",
        "\n",
        "\n",
        "###In summary, a one-way ANOVA with an F-statistic of 5.23 and a p-value of 0.02 suggests that there is significant evidence to suggest that at least one of the groups has a different mean from the others. Further analysis can help to determine which specific group(s) differ and the practical significance of these differences."
      ],
      "metadata": {
        "id": "hsYW616B7wSJ"
      }
    },
    {
      "cell_type": "markdown",
      "source": [
        "##Q7. In a repeated measures ANOVA, how would you handle missing data, and what are the potential consequences of using different methods to handle missing data?\n",
        "\n",
        "###In a repeated measures ANOVA, missing data can occur when some participants have missing values for one or more of the repeated measures. There are several ways to handle missing data in a repeated measures ANOVA, each with their own potential consequences:\n",
        "\n",
        "* Complete case analysis: This method involves only analyzing participants who have complete data for all of the repeated measures. This can lead to loss of statistical power and potentially biased results if the missing data is not missing completely at random.\n",
        "\n",
        "* Mean imputation: This method involves replacing missing values with the mean value for that measure across all participants. This can introduce bias if the missing data is related to other variables in the dataset.\n",
        "\n",
        "* Last observation carried forward (LOCF): This method involves replacing missing values with the last observed value for that measure for that participant. This can introduce bias if the missing data is related to other variables in the dataset, and may not accurately reflect the participant's true score.\n",
        "\n",
        "* Multiple imputation: This method involves creating multiple imputed datasets where missing values are replaced with plausible values based on the observed data and the underlying data distribution. This method can provide more accurate estimates of the parameters of interest and may increase statistical power.\n",
        "\n",
        "###It is important to carefully consider the potential consequences of each method when handling missing data in a repeated measures ANOVA. Choosing an appropriate method can help to minimize bias and increase the accuracy and reliability of the results."
      ],
      "metadata": {
        "id": "t52j941a8GwT"
      }
    },
    {
      "cell_type": "markdown",
      "source": [
        "##Q8. What are some common post-hoc tests used after ANOVA, and when would you use each one? Provide an example of a situation where a post-hoc test might be necessary.\n",
        "\n",
        "###After conducting an ANOVA, post-hoc tests are used to determine which specific groups differ significantly from each other. There are several commonly used post-hoc tests, including:\n",
        "\n",
        "* Tukey's HSD (honest significant difference): This test is used to compare all possible pairs of group means and control the familywise error rate. It is appropriate when there are equal sample sizes and variances across groups.\n",
        "\n",
        "* Bonferroni correction: This test adjusts the significance level for each individual comparison to control the overall type I error rate. It is appropriate when there are few comparisons to be made.\n",
        "\n",
        "* Scheffé's method: This test is more conservative than Tukey's HSD and is appropriate when there are unequal sample sizes and variances across groups.\n",
        "\n",
        "* Games-Howell test: This test is a non-parametric alternative to Tukey's HSD and is appropriate when assumptions of normality and homogeneity of variance are violated.\n",
        "\n",
        "###An example of a situation where a post-hoc test might be necessary is when conducting a study on the effectiveness of three different pain medications. After conducting an ANOVA, the researcher finds that there is a significant difference in pain reduction between the three groups. However, the researcher cannot conclude which specific group is significantly different from the others without performing a post-hoc test. In this situation, Tukey's HSD or another appropriate post-hoc test could be used to compare the means of all possible pairs of groups and determine which groups differ significantly from each other."
      ],
      "metadata": {
        "id": "SXiAlL_88uPM"
      }
    },
    {
      "cell_type": "code",
      "source": [],
      "metadata": {
        "id": "rVt5ZusU7ddj"
      },
      "execution_count": null,
      "outputs": []
    },
    {
      "cell_type": "markdown",
      "source": [
        "##Q9. A researcher wants to compare the mean weight loss of three diets: A, B, and C. They collect data from 50 participants who were randomly assigned to one of the diets. Conduct a one-way ANOVA using Python to determine if there are any significant differences between the mean weight loss of the three diets.\n",
        "##Report the F-statistic and p-value, and interpret the results."
      ],
      "metadata": {
        "id": "fz0mlUdY9L35"
      }
    },
    {
      "cell_type": "code",
      "source": [
        "import pandas as pd\n",
        "import scipy.stats as stats\n",
        "\n",
        "# read in the data\n",
        "df = pd.read_csv('/content/diet_data.csv')\n",
        "\n"
      ],
      "metadata": {
        "id": "X2oGiu5Y9O_C"
      },
      "execution_count": 35,
      "outputs": []
    },
    {
      "cell_type": "code",
      "source": [
        "df.head(12)"
      ],
      "metadata": {
        "colab": {
          "base_uri": "https://localhost:8080/",
          "height": 425
        },
        "id": "cBwdU-ba-ZC6",
        "outputId": "d27011a1-ba1a-4d0e-f9da-f933be23e582"
      },
      "execution_count": 36,
      "outputs": [
        {
          "output_type": "execute_result",
          "data": {
            "text/plain": [
              "    Participant Diet_Type  Weight_Loss\n",
              "0             1  Low Carb          4.2\n",
              "1             2  Low Carb          3.9\n",
              "2             3  Low Carb          5.1\n",
              "3             4  Low Carb          4.4\n",
              "4             5  Low Carb          4.8\n",
              "5             6     Vegan          2.5\n",
              "6             7     Vegan          2.9\n",
              "7             8     Vegan          3.1\n",
              "8             9     Vegan          2.4\n",
              "9            10     Vegan          3.0\n",
              "10           11   Low Fat          1.9\n",
              "11           12   Low Fat          1.8"
            ],
            "text/html": [
              "\n",
              "  <div id=\"df-1d14ba77-df8a-410f-8d69-4d1a9b0d4343\">\n",
              "    <div class=\"colab-df-container\">\n",
              "      <div>\n",
              "<style scoped>\n",
              "    .dataframe tbody tr th:only-of-type {\n",
              "        vertical-align: middle;\n",
              "    }\n",
              "\n",
              "    .dataframe tbody tr th {\n",
              "        vertical-align: top;\n",
              "    }\n",
              "\n",
              "    .dataframe thead th {\n",
              "        text-align: right;\n",
              "    }\n",
              "</style>\n",
              "<table border=\"1\" class=\"dataframe\">\n",
              "  <thead>\n",
              "    <tr style=\"text-align: right;\">\n",
              "      <th></th>\n",
              "      <th>Participant</th>\n",
              "      <th>Diet_Type</th>\n",
              "      <th>Weight_Loss</th>\n",
              "    </tr>\n",
              "  </thead>\n",
              "  <tbody>\n",
              "    <tr>\n",
              "      <th>0</th>\n",
              "      <td>1</td>\n",
              "      <td>Low Carb</td>\n",
              "      <td>4.2</td>\n",
              "    </tr>\n",
              "    <tr>\n",
              "      <th>1</th>\n",
              "      <td>2</td>\n",
              "      <td>Low Carb</td>\n",
              "      <td>3.9</td>\n",
              "    </tr>\n",
              "    <tr>\n",
              "      <th>2</th>\n",
              "      <td>3</td>\n",
              "      <td>Low Carb</td>\n",
              "      <td>5.1</td>\n",
              "    </tr>\n",
              "    <tr>\n",
              "      <th>3</th>\n",
              "      <td>4</td>\n",
              "      <td>Low Carb</td>\n",
              "      <td>4.4</td>\n",
              "    </tr>\n",
              "    <tr>\n",
              "      <th>4</th>\n",
              "      <td>5</td>\n",
              "      <td>Low Carb</td>\n",
              "      <td>4.8</td>\n",
              "    </tr>\n",
              "    <tr>\n",
              "      <th>5</th>\n",
              "      <td>6</td>\n",
              "      <td>Vegan</td>\n",
              "      <td>2.5</td>\n",
              "    </tr>\n",
              "    <tr>\n",
              "      <th>6</th>\n",
              "      <td>7</td>\n",
              "      <td>Vegan</td>\n",
              "      <td>2.9</td>\n",
              "    </tr>\n",
              "    <tr>\n",
              "      <th>7</th>\n",
              "      <td>8</td>\n",
              "      <td>Vegan</td>\n",
              "      <td>3.1</td>\n",
              "    </tr>\n",
              "    <tr>\n",
              "      <th>8</th>\n",
              "      <td>9</td>\n",
              "      <td>Vegan</td>\n",
              "      <td>2.4</td>\n",
              "    </tr>\n",
              "    <tr>\n",
              "      <th>9</th>\n",
              "      <td>10</td>\n",
              "      <td>Vegan</td>\n",
              "      <td>3.0</td>\n",
              "    </tr>\n",
              "    <tr>\n",
              "      <th>10</th>\n",
              "      <td>11</td>\n",
              "      <td>Low Fat</td>\n",
              "      <td>1.9</td>\n",
              "    </tr>\n",
              "    <tr>\n",
              "      <th>11</th>\n",
              "      <td>12</td>\n",
              "      <td>Low Fat</td>\n",
              "      <td>1.8</td>\n",
              "    </tr>\n",
              "  </tbody>\n",
              "</table>\n",
              "</div>\n",
              "      <button class=\"colab-df-convert\" onclick=\"convertToInteractive('df-1d14ba77-df8a-410f-8d69-4d1a9b0d4343')\"\n",
              "              title=\"Convert this dataframe to an interactive table.\"\n",
              "              style=\"display:none;\">\n",
              "        \n",
              "  <svg xmlns=\"http://www.w3.org/2000/svg\" height=\"24px\"viewBox=\"0 0 24 24\"\n",
              "       width=\"24px\">\n",
              "    <path d=\"M0 0h24v24H0V0z\" fill=\"none\"/>\n",
              "    <path d=\"M18.56 5.44l.94 2.06.94-2.06 2.06-.94-2.06-.94-.94-2.06-.94 2.06-2.06.94zm-11 1L8.5 8.5l.94-2.06 2.06-.94-2.06-.94L8.5 2.5l-.94 2.06-2.06.94zm10 10l.94 2.06.94-2.06 2.06-.94-2.06-.94-.94-2.06-.94 2.06-2.06.94z\"/><path d=\"M17.41 7.96l-1.37-1.37c-.4-.4-.92-.59-1.43-.59-.52 0-1.04.2-1.43.59L10.3 9.45l-7.72 7.72c-.78.78-.78 2.05 0 2.83L4 21.41c.39.39.9.59 1.41.59.51 0 1.02-.2 1.41-.59l7.78-7.78 2.81-2.81c.8-.78.8-2.07 0-2.86zM5.41 20L4 18.59l7.72-7.72 1.47 1.35L5.41 20z\"/>\n",
              "  </svg>\n",
              "      </button>\n",
              "      \n",
              "  <style>\n",
              "    .colab-df-container {\n",
              "      display:flex;\n",
              "      flex-wrap:wrap;\n",
              "      gap: 12px;\n",
              "    }\n",
              "\n",
              "    .colab-df-convert {\n",
              "      background-color: #E8F0FE;\n",
              "      border: none;\n",
              "      border-radius: 50%;\n",
              "      cursor: pointer;\n",
              "      display: none;\n",
              "      fill: #1967D2;\n",
              "      height: 32px;\n",
              "      padding: 0 0 0 0;\n",
              "      width: 32px;\n",
              "    }\n",
              "\n",
              "    .colab-df-convert:hover {\n",
              "      background-color: #E2EBFA;\n",
              "      box-shadow: 0px 1px 2px rgba(60, 64, 67, 0.3), 0px 1px 3px 1px rgba(60, 64, 67, 0.15);\n",
              "      fill: #174EA6;\n",
              "    }\n",
              "\n",
              "    [theme=dark] .colab-df-convert {\n",
              "      background-color: #3B4455;\n",
              "      fill: #D2E3FC;\n",
              "    }\n",
              "\n",
              "    [theme=dark] .colab-df-convert:hover {\n",
              "      background-color: #434B5C;\n",
              "      box-shadow: 0px 1px 3px 1px rgba(0, 0, 0, 0.15);\n",
              "      filter: drop-shadow(0px 1px 2px rgba(0, 0, 0, 0.3));\n",
              "      fill: #FFFFFF;\n",
              "    }\n",
              "  </style>\n",
              "\n",
              "      <script>\n",
              "        const buttonEl =\n",
              "          document.querySelector('#df-1d14ba77-df8a-410f-8d69-4d1a9b0d4343 button.colab-df-convert');\n",
              "        buttonEl.style.display =\n",
              "          google.colab.kernel.accessAllowed ? 'block' : 'none';\n",
              "\n",
              "        async function convertToInteractive(key) {\n",
              "          const element = document.querySelector('#df-1d14ba77-df8a-410f-8d69-4d1a9b0d4343');\n",
              "          const dataTable =\n",
              "            await google.colab.kernel.invokeFunction('convertToInteractive',\n",
              "                                                     [key], {});\n",
              "          if (!dataTable) return;\n",
              "\n",
              "          const docLinkHtml = 'Like what you see? Visit the ' +\n",
              "            '<a target=\"_blank\" href=https://colab.research.google.com/notebooks/data_table.ipynb>data table notebook</a>'\n",
              "            + ' to learn more about interactive tables.';\n",
              "          element.innerHTML = '';\n",
              "          dataTable['output_type'] = 'display_data';\n",
              "          await google.colab.output.renderOutput(dataTable, element);\n",
              "          const docLink = document.createElement('div');\n",
              "          docLink.innerHTML = docLinkHtml;\n",
              "          element.appendChild(docLink);\n",
              "        }\n",
              "      </script>\n",
              "    </div>\n",
              "  </div>\n",
              "  "
            ]
          },
          "metadata": {},
          "execution_count": 36
        }
      ]
    },
    {
      "cell_type": "code",
      "source": [
        "\n",
        "# conduct the one-way ANOVA\n",
        "f_statistic, p_value = stats.f_oneway(df['WeightLoss'][df['Diet']=='A'],\n",
        "                                       df['WeightLoss'][df['Diet']=='B'],\n",
        "                                       df['WeightLoss'][df['Diet']=='C'])\n",
        "\n",
        "# print the results\n",
        "print('F-Statistic:', f_statistic)\n",
        "print('P-Value:', p_value)\n"
      ],
      "metadata": {
        "colab": {
          "base_uri": "https://localhost:8080/"
        },
        "id": "7rwU0iub-aQB",
        "outputId": "6e0e3340-b5fa-4722-8cd2-246605ec7f8c"
      },
      "execution_count": 10,
      "outputs": [
        {
          "output_type": "stream",
          "name": "stdout",
          "text": [
            "F-statistic:  182.1496174581141\n",
            "p-value:  7.270913411086939e-23\n"
          ]
        }
      ]
    },
    {
      "cell_type": "markdown",
      "source": [
        "###That output suggests that there are significant differences between the mean weight loss of the three diets. The F-statistic of 182.15 is large and the p-value is very small (7.27e-23), which indicates that the null hypothesis (i.e., there are no differences between the diets) should be rejected. This means that there are indeed differences between the mean weight loss of the three diets."
      ],
      "metadata": {
        "id": "zNcFE66FAXos"
      }
    },
    {
      "cell_type": "code",
      "source": [
        "##another code with with manually entered  data \n",
        "\n",
        "import numpy as np\n",
        "from scipy.stats import f_oneway\n",
        "\n",
        "# weight loss data for each diet\n",
        "diet_A = np.array([2.1, 1.5, 3.2, 2.8, 1.7, 1.9, 2.5, 2.0, 2.9, 2.3,\n",
        "                   1.8, 2.4, 1.6, 2.2, 2.6, 3.0, 1.4, 2.7, 2.1, 1.9,\n",
        "                   2.8, 1.6, 2.3, 1.7, 2.5])\n",
        "diet_B = np.array([2.7, 3.1, 2.5, 2.2, 2.8, 1.9, 2.1, 2.6, 2.0, 2.3,\n",
        "                   2.8, 1.5, 2.2, 1.8, 2.9, 2.4, 1.7, 2.3, 2.6, 2.1,\n",
        "                   1.4, 2.0, 1.6, 2.7, 2.3])\n",
        "diet_C = np.array([1.8, 1.9, 1.6, 2.2, 2.0, 2.5, 2.1, 2.3, 2.8, 2.6,\n",
        "                   2.4, 2.0, 2.7, 2.2, 1.5, 1.7, 2.9, 2.1, 1.8, 2.3,\n",
        "                   2.5, 2.6, 2.1, 1.4, 2.2])\n",
        "\n",
        "f_stat, p_val = f_oneway(diet_A, diet_B, diet_C)\n",
        "print(\"F-statistic: {:.2f}\".format(f_stat))\n",
        "print(\"p-value: {:.4f}\".format(p_val))\n"
      ],
      "metadata": {
        "colab": {
          "base_uri": "https://localhost:8080/"
        },
        "id": "0G4UEY2t-cXN",
        "outputId": "94275505-e473-4f51-d177-446c4b5d1ac6"
      },
      "execution_count": 37,
      "outputs": [
        {
          "output_type": "stream",
          "name": "stdout",
          "text": [
            "F-statistic: 0.25\n",
            "p-value: 0.7771\n"
          ]
        }
      ]
    },
    {
      "cell_type": "markdown",
      "source": [
        "###Interpreting the results, we can see that the p-value is greater than 0.05, which suggests that there is not enough evidence to reject the null hypothesis that the mean weight loss is the same for all three diets. Therefore, we cannot conclude that there are significant differences between the mean weight loss of the three diets."
      ],
      "metadata": {
        "id": "rxQXd_qKDWVl"
      }
    },
    {
      "cell_type": "code",
      "source": [],
      "metadata": {
        "id": "-rWap-nvDQ9M"
      },
      "execution_count": null,
      "outputs": []
    },
    {
      "cell_type": "markdown",
      "source": [
        "##Q10. A company wants to know if there are any significant differences in the average time it takes to complete a task using three different software programs: Program A, Program B, and Program C. They randomly assign 30 employees to one of the programs and record the time it takes each employee to complete the task. Conduct a two-way ANOVA using Python to determine if there are any main effects or interaction effects between the software programs and employee experience level (novice vs. experienced). Report the F-statistics and p-values, and interpret the results.\n",
        "\n",
        "\n"
      ],
      "metadata": {
        "id": "KnK5_XSaDhgt"
      }
    },
    {
      "cell_type": "code",
      "source": [
        "import numpy as np\n",
        "import pandas as pd\n",
        "import statsmodels.api as sm\n",
        "from statsmodels.formula.api import ols\n",
        "\n",
        "# Generate sample data\n",
        "np.random.seed(1234)\n",
        "\n",
        "program = np.random.choice(['A', 'B', 'C'], size=90)\n",
        "experience = np.random.choice(['Novice', 'Experienced'], size=90)\n",
        "time = np.random.normal(loc=10, scale=2, size=90)\n",
        "\n",
        "data = pd.DataFrame({'Program': program, 'Experience': experience, 'Time': time})\n",
        "model = ols('Time ~ C(Program) + C(Experience) + C(Program):C(Experience)', data=data).fit()\n",
        "anova_table = sm.stats.anova_lm(model, typ=2)\n",
        "\n",
        "# df = pd.DataFrame(anova_table)\n",
        "print(df)\n"
      ],
      "metadata": {
        "colab": {
          "base_uri": "https://localhost:8080/"
        },
        "id": "omshoP2TGCbP",
        "outputId": "9e1aee12-d942-4ef7-ed30-cb2f67f1a70d"
      },
      "execution_count": 17,
      "outputs": [
        {
          "output_type": "stream",
          "name": "stdout",
          "text": [
            "                              sum_sq    df         F    PR(>F)\n",
            "C(Program)                  4.970375   2.0  0.931445  0.398015\n",
            "C(Experience)              18.443605   1.0  6.912639  0.010176\n",
            "C(Program):C(Experience)    1.409813   2.0  0.264198  0.768457\n",
            "Residual                  224.120297  84.0       NaN       NaN\n"
          ]
        }
      ]
    },
    {
      "cell_type": "markdown",
      "source": [
        "###the two-way ANOVA results show that:\n",
        "\n",
        "* There is no significant main effect of Program on the completion time of the task (F(2,84) = 0.931, p = 0.398).\n",
        "* There is a significant main effect of Experience on the completion time of the task (F(1,84) = 6.913, p = 0.010).\n",
        "* There is no significant interaction effect between Program and Experience on the completion time of the task (F(2,84) = 0.264, p = 0.768).\n",
        "* The residual sum of squares represents the unexplained variance in the model.\n",
        "\n",
        "###It is worth noting that the significance of the main effect of *Experience suggests that employee experience level is a significant factor in the time it takes to complete the task. \n",
        "\n",
        "###However, the lack of significance for the main effect of Program or the interaction effect indicates that the choice of software program does not have a significant effect on task completion time, nor does it interact with experience level in a significant way."
      ],
      "metadata": {
        "id": "DQI4fSq1HT8h"
      }
    },
    {
      "cell_type": "code",
      "source": [],
      "metadata": {
        "id": "ODfuCU5dGGjr"
      },
      "execution_count": 15,
      "outputs": []
    },
    {
      "cell_type": "markdown",
      "source": [
        "##Q11. An educational researcher is interested in whether a new teaching method improves student test scores. They randomly assign 100 students to either the control group (traditional teaching method) or the experimental group (new teaching method) and administer a test at the end of the semester. Conduct a two-sample t-test using Python to determine if there are any significant differences in test scores between the two groups. If the results are significant, follow up with a post-hoc test to determine which group(s) differ significantly from each other.\n",
        "\n",
        "\n",
        "#Ans:---"
      ],
      "metadata": {
        "id": "DHW6Rwj3HoFu"
      }
    },
    {
      "cell_type": "markdown",
      "source": [
        "##To conduct a two-sample t-test in Python, we can use the scipy.stats module. Here's an example code"
      ],
      "metadata": {
        "id": "u8qv7mk7ICOO"
      }
    },
    {
      "cell_type": "code",
      "source": [
        "import numpy as np\n",
        "from scipy.stats import ttest_ind\n",
        "\n",
        "# Generate sample data\n",
        "np.random.seed(123)\n",
        "control_scores = np.random.normal(loc=70, scale=10, size=100)\n",
        "experimental_scores = np.random.normal(loc=75, scale=10, size=100)\n",
        "\n",
        "# Perform two-sample t-test\n",
        "t_stat, p_val = ttest_ind(control_scores, experimental_scores)\n",
        "\n",
        "# Print results\n",
        "print(\"t-statistic: \", t_stat)\n",
        "print(\"p-value: \", p_val)\n"
      ],
      "metadata": {
        "colab": {
          "base_uri": "https://localhost:8080/"
        },
        "id": "T5kUUa7uH_-j",
        "outputId": "dd92b972-f9a0-47a5-8288-28e3d14e2ec3"
      },
      "execution_count": 23,
      "outputs": [
        {
          "output_type": "stream",
          "name": "stdout",
          "text": [
            "t-statistic:  -3.0316172004188147\n",
            "p-value:  0.0027577299763983324\n"
          ]
        }
      ]
    },
    {
      "cell_type": "markdown",
      "source": [
        "###In this example, we generate two sets of sample data (control_scores and experimental_scores) with normally distributed test scores. We then use the ttest_ind function to calculate the t-statistic and p-value for a two-sample t-test. Finally, we print out the results.\n",
        "\n",
        "##To follow up with a post-hoc test, we can use the statsmodels module. Here's an example code"
      ],
      "metadata": {
        "id": "BDEeRrdgINwZ"
      }
    },
    {
      "cell_type": "code",
      "source": [
        "import statsmodels.api as sm\n",
        "from statsmodels.stats.multicomp import pairwise_tukeyhsd\n",
        "\n",
        "# Load data into DataFrame\n",
        "data = np.concatenate([control_scores, experimental_scores])\n",
        "group = np.concatenate([np.zeros_like(control_scores), np.ones_like(experimental_scores)])\n",
        "df = pd.DataFrame({\"group\": group, \"score\": data})\n",
        "\n",
        "# Perform Tukey's HSD post-hoc test\n",
        "tukey = pairwise_tukeyhsd(endog=df['score'], groups=df['group'], alpha=0.05)\n",
        "\n",
        "# Print results\n",
        "print(tukey)\n"
      ],
      "metadata": {
        "colab": {
          "base_uri": "https://localhost:8080/"
        },
        "id": "aOlGuiigIHbw",
        "outputId": "c3707eaa-d698-4247-f581-3709d698e7dd"
      },
      "execution_count": 24,
      "outputs": [
        {
          "output_type": "stream",
          "name": "stdout",
          "text": [
            "Multiple Comparison of Means - Tukey HSD, FWER=0.05\n",
            "==================================================\n",
            "group1 group2 meandiff p-adj  lower  upper  reject\n",
            "--------------------------------------------------\n",
            "   0.0    1.0   4.5336 0.0028 1.5846 7.4826   True\n",
            "--------------------------------------------------\n"
          ]
        }
      ]
    },
    {
      "cell_type": "markdown",
      "source": [
        "###In this example, we first load the data into a pandas DataFrame with two columns (group and score). The group column specifies which group each score belongs to (0 for control, 1 for experimental). We then use the pairwise_tukeyhsd function to perform Tukey's Honestly Significant Difference (HSD) test, which compares all possible pairwise group differences and identifies which differences are statistically significant at the specified alpha level (0.05 in this case). Finally, we print out the results.\n",
        "\n"
      ],
      "metadata": {
        "id": "mwCVzNXwJE3Q"
      }
    },
    {
      "cell_type": "code",
      "source": [],
      "metadata": {
        "id": "071DjancIgPd"
      },
      "execution_count": null,
      "outputs": []
    },
    {
      "cell_type": "markdown",
      "source": [
        "##Q12. A researcher wants to know if there are any significant differences in the average daily sales of three retail stores: Store A, Store B, and Store C. They randomly select 30 days and record the sales for each store on those days. Conduct a repeated measures ANOVA using Python to determine if there are any significant differences in sales between the three stores. If the results are significant, follow up with a post- hoc test to determine which store(s) differ significantly from each other."
      ],
      "metadata": {
        "id": "tdzABOgiJTAQ"
      }
    },
    {
      "cell_type": "markdown",
      "source": [
        "#Ans:---\n",
        "\n",
        "##Here's an  code  to perform the repeated measures ANOVA:"
      ],
      "metadata": {
        "id": "UMU9QmJRJeZ3"
      }
    },
    {
      "cell_type": "code",
      "source": [
        "import pandas as pd\n",
        "import numpy as np\n",
        "import statsmodels.api as sm\n",
        "from statsmodels.formula.api import ols\n",
        "from statsmodels.stats.multicomp import pairwise_tukeyhsd\n",
        "\n",
        "# create a sample dataset\n",
        "np.random.seed(123)\n",
        "store_a = np.random.normal(50, 10, 30)\n",
        "store_b = np.random.normal(60, 10, 30)\n",
        "store_c = np.random.normal(70, 10, 30)\n",
        "data = pd.DataFrame({'store_a': store_a, 'store_b': store_b, 'store_c': store_c})\n",
        "\n",
        "# reshape the data into long format\n",
        "data_melt = pd.melt(data.reset_index(), id_vars=['index'], value_vars=['store_a', 'store_b', 'store_c'])\n",
        "data_melt.columns = ['index', 'store', 'sales']\n",
        "\n",
        "# conduct repeated measures ANOVA\n",
        "model = ols('sales ~ C(store) + C(index)', data=data_melt).fit()\n",
        "anova_table = sm.stats.anova_lm(model, typ=2)\n",
        "\n",
        "# print the ANOVA table\n",
        "print(anova_table)\n",
        "\n",
        "# conduct post-hoc test\n",
        "posthoc = pairwise_tukeyhsd(data_melt['sales'], data_melt['store'])\n",
        "print(posthoc)\n"
      ],
      "metadata": {
        "colab": {
          "base_uri": "https://localhost:8080/"
        },
        "id": "kmJ3rQtLJV_j",
        "outputId": "0b42ef41-9f40-49e5-ed5d-768db96cd90d"
      },
      "execution_count": 33,
      "outputs": [
        {
          "output_type": "stream",
          "name": "stdout",
          "text": [
            "               sum_sq    df          F        PR(>F)\n",
            "C(store)  5331.865905   2.0  18.664017  5.520945e-07\n",
            "C(index)  3482.528266  29.0   0.840722  6.896639e-01\n",
            "Residual  8284.610559  58.0        NaN           NaN\n",
            " Multiple Comparison of Means - Tukey HSD, FWER=0.05  \n",
            "======================================================\n",
            " group1  group2 meandiff p-adj   lower   upper  reject\n",
            "------------------------------------------------------\n",
            "store_a store_b  10.9677 0.0013  3.8075 18.1279   True\n",
            "store_a store_c  18.7645    0.0 11.6043 25.9247   True\n",
            "store_b store_c   7.7968 0.0295  0.6366  14.957   True\n",
            "------------------------------------------------------\n"
          ]
        }
      ]
    },
    {
      "cell_type": "markdown",
      "source": [
        "##The second table shows the results of the post-hoc test. The columns are:\n",
        "```\n",
        "group1 and group2: the two stores being compared\n",
        "meandiff: the difference in means between the two stores\n",
        "lower and upper: the lower and upper bounds of the confidence interval for the mean difference\n",
        "reject: whether or not to reject the null hypothesis of equal means between the two stores (True means reject)\n",
        "```"
      ],
      "metadata": {
        "id": "Ft586jXIPheD"
      }
    },
    {
      "cell_type": "markdown",
      "source": [
        "###In this case, all pairwise comparisons between the three stores have a p-value less than 0.05, which means we can conclude that there are significant differences in sales between all three stores."
      ],
      "metadata": {
        "id": "G0ICefI1Qhmy"
      }
    },
    {
      "cell_type": "code",
      "source": [],
      "metadata": {
        "id": "qSmSfi-9LY8E"
      },
      "execution_count": null,
      "outputs": []
    }
  ]
}